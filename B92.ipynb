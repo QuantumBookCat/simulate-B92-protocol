{
 "cells": [
  {
   "cell_type": "code",
   "execution_count": null,
   "metadata": {},
   "outputs": [],
   "source": [
    "#  |0> -- Z --> |0>\n",
    "#  |0> -- X --> |+> or |->\n",
    "#\n",
    "#  |-> -- Z --> |0> or |1>\n",
    "#  |-> -- X --> |->\n"
   ]
  },
  {
   "cell_type": "code",
   "execution_count": 1,
   "metadata": {},
   "outputs": [],
   "source": [
    "from qiskit import QuantumCircuit, ClassicalRegister, QuantumRegister\n",
    "import numpy as np\n",
    "import qiskit\n",
    "%matplotlib inline"
   ]
  },
  {
   "cell_type": "code",
   "execution_count": 2,
   "metadata": {},
   "outputs": [
    {
     "data": {
      "text/plain": [
       "<qiskit.extensions.standard.barrier.Barrier at 0x7efd83709fd0>"
      ]
     },
     "execution_count": 2,
     "metadata": {},
     "output_type": "execute_result"
    }
   ],
   "source": [
    "# generate one qubit\n",
    "\n",
    "q = QuantumRegister(1,'q')\n",
    "c = ClassicalRegister(2,'c')\n",
    "\n",
    "# Alice\n",
    "Alice_circ0 = QuantumCircuit(q,c)  # |0>\n",
    "Alice_circ0.barrier(q)\n",
    "\n",
    "\n",
    "Alice_circ1 = QuantumCircuit(q,c)  # |->\n",
    "Alice_circ1.x(q[0])\n",
    "Alice_circ1.h(q[0])\n",
    "Alice_circ1.barrier(q)"
   ]
  },
  {
   "cell_type": "code",
   "execution_count": 3,
   "metadata": {},
   "outputs": [
    {
     "data": {
      "text/plain": [
       "<qiskit.circuit.measure.Measure at 0x7efd836a2400>"
      ]
     },
     "execution_count": 3,
     "metadata": {},
     "output_type": "execute_result"
    }
   ],
   "source": [
    "# Bob measurement\n",
    "B1 = QuantumCircuit(q,c) # Z basis\n",
    "B1.measure(q[0],c[0])\n",
    "\n",
    "B2 = QuantumCircuit(q,c) # X basis\n",
    "B2.h(q[0])\n",
    "B2.measure(q[0],c[0])"
   ]
  },
  {
   "cell_type": "code",
   "execution_count": 4,
   "metadata": {},
   "outputs": [
    {
     "name": "stdout",
     "output_type": "stream",
     "text": [
      "Alice_01 0(0)(|0>) or 1(1)(|->) : [0, 0, 1, 1, 1, 0, 1, 0, 1, 0, 0, 1, 0, 0, 1, 1, 0, 0, 1, 0, 1, 0, 0, 0, 0, 1, 0, 1, 1, 1, 1, 0]\n",
      "Bob_basis B1(0)(Z) or B2(1)(X) : [1, 1, 0, 1, 0, 1, 1, 0, 0, 0, 0, 0, 0, 1, 1, 0, 0, 0, 1, 1, 0, 0, 1, 0, 1, 0, 1, 1, 1, 1, 1, 1]\n"
     ]
    }
   ],
   "source": [
    "n=32   # n qubits\n",
    "\n",
    "import random\n",
    "def random_01str(list1,num):\n",
    "    for i in range(num):\n",
    "        list1.append(random.randint(0,1))\n",
    "\n",
    "        \n",
    "Alice_01=[]\n",
    "Bob_basis=[]\n",
    "\n",
    "Alice_01.clear()\n",
    "Bob_basis.clear()\n",
    "\n",
    "random_01str(Alice_01,n)\n",
    "random_01str(Bob_basis,n)\n",
    "\n",
    "print(\"Alice_01 0(0)(|0>) or 1(1)(|->) : {}\".format(Alice_01))\n",
    "print(\"Bob_basis B1(0)(Z) or B2(1)(X) : {}\".format(Bob_basis))"
   ]
  },
  {
   "cell_type": "code",
   "execution_count": 5,
   "metadata": {},
   "outputs": [
    {
     "data": {
      "text/html": [
       "<pre style=\"word-wrap: normal;white-space: pre;line-height: 15px;\">         ░ ┌───┐┌─┐\n",
       "q_0: |0>─░─┤ H ├┤M├\n",
       "         ░ └───┘└╥┘\n",
       " c_0: 0 ═════════╩═\n",
       "                   \n",
       " c_1: 0 ═══════════\n",
       "                   </pre>"
      ],
      "text/plain": [
       "<qiskit.visualization.text.TextDrawing at 0x7efd8492c518>"
      ]
     },
     "execution_count": 5,
     "metadata": {},
     "output_type": "execute_result"
    }
   ],
   "source": [
    "# generate circuits\n",
    "\n",
    "Alice_circ = [Alice_circ0,Alice_circ1]\n",
    "Bob_circ = [B1,B2]\n",
    "\n",
    "circuits=[]\n",
    "circuits.clear()\n",
    "\n",
    "for i in range(n):\n",
    "    if not Alice_01[i]:\n",
    "        OneCircuit = Alice_circ[0] + Bob_circ[Bob_basis[i]]\n",
    "    elif Alice_01[i]:\n",
    "        OneCircuit = Alice_circ[1] + Bob_circ[Bob_basis[i]]\n",
    "\n",
    "    circuits.append(OneCircuit)\n",
    "    \n",
    "    \n",
    "circuits[0].draw()"
   ]
  },
  {
   "cell_type": "code",
   "execution_count": 6,
   "metadata": {},
   "outputs": [
    {
     "name": "stdout",
     "output_type": "stream",
     "text": [
      "{'00': 1}\n"
     ]
    }
   ],
   "source": [
    "from qiskit import execute, BasicAer\n",
    "from qiskit.tools.visualization import plot_histogram\n",
    "backend_sim = BasicAer.get_backend('qasm_simulator')\n",
    "\n",
    "job_sim = qiskit.execute(circuits, backend_sim, shots=1)\n",
    "result_sim = job_sim.result()\n",
    "counts = result_sim.get_counts(circuits[0])\n",
    "print(counts)"
   ]
  },
  {
   "cell_type": "code",
   "execution_count": 7,
   "metadata": {},
   "outputs": [
    {
     "name": "stdout",
     "output_type": "stream",
     "text": [
      "Bob_result   = [0, 1, 0, 1, 1, 0, 1, 0, 0, 0, 0, 0, 0, 1, 1, 1, 0, 0, 1, 0, 0, 0, 1, 0, 1, 1, 1, 1, 1, 1, 1, 0]\n"
     ]
    }
   ],
   "source": [
    "# get Bob's result\n",
    "\n",
    "Bob_result=[]\n",
    "Bob_result.clear()\n",
    "\n",
    "for i in range(n):\n",
    "    Bob_result.append(int((list(result_sim.get_counts(circuits[i]))[0])[1]))\n",
    "    \n",
    "print(\"Bob_result   = {}\".format(Bob_result))"
   ]
  },
  {
   "cell_type": "code",
   "execution_count": 8,
   "metadata": {},
   "outputs": [
    {
     "name": "stdout",
     "output_type": "stream",
     "text": [
      "ensured_pos = [0, 4, 5, 15, 19, 25, 31]\n",
      "ensured_state = [1, 0, 0, 0, 1, 1, 0, 0, 0, 0, 0, 0, 0, 0, 0, 1, 0, 0, 0, 1, 0, 0, 0, 0, 0, 1, 0, 0, 0, 0, 0, 1]\n",
      "Bob_key = [1, 0, 1, 0, 1, 0, 1]\n"
     ]
    }
   ],
   "source": [
    "#Check the state that can be ensured\n",
    "\n",
    "ensured_pos=[]\n",
    "ensured_state=[]\n",
    "Bob_key=[]\n",
    "\n",
    "ensured_pos.clear()\n",
    "ensured_state.clear()\n",
    "Bob_key.clear()\n",
    "\n",
    "for i in range(n):\n",
    "    if Bob_basis[i]==0 and Bob_result[i]==1: # |1>\n",
    "        ensured_pos.append(i)\n",
    "        ensured_state.append(1)\n",
    "        Bob_key.append(Bob_basis[i])\n",
    "    elif Bob_basis[i]==1 and Bob_result[i]==0: # |+>\n",
    "        ensured_pos.append(i)\n",
    "        ensured_state.append(1)\n",
    "        Bob_key.append(Bob_basis[i])\n",
    "    else:\n",
    "        ensured_state.append(0)\n",
    "\n",
    "print(\"ensured_pos = {}\".format(ensured_pos))\n",
    "print(\"ensured_state = {}\".format(ensured_state))\n",
    "print(\"Bob_key = {}\".format(Bob_key))"
   ]
  },
  {
   "cell_type": "code",
   "execution_count": 9,
   "metadata": {},
   "outputs": [
    {
     "name": "stdout",
     "output_type": "stream",
     "text": [
      "Alice_key = [1, 0, 1, 0, 1, 0, 1]\n"
     ]
    }
   ],
   "source": [
    "#Bob informs the position of states that can be ensured to Alice,\n",
    "#and Alice gets key\n",
    "\n",
    "Alice_key=[]\n",
    "\n",
    "Alice_key.clear()\n",
    "\n",
    "for i in range(n):\n",
    "    if ensured_state[i]==1:\n",
    "        Alice_key.append(int(not Alice_01[i]))\n",
    "\n",
    "\n",
    "print(\"Alice_key = {}\".format(Alice_key))"
   ]
  },
  {
   "cell_type": "code",
   "execution_count": null,
   "metadata": {},
   "outputs": [],
   "source": []
  }
 ],
 "metadata": {
  "kernelspec": {
   "display_name": "Python 3",
   "language": "python",
   "name": "python3"
  },
  "language_info": {
   "codemirror_mode": {
    "name": "ipython",
    "version": 3
   },
   "file_extension": ".py",
   "mimetype": "text/x-python",
   "name": "python",
   "nbconvert_exporter": "python",
   "pygments_lexer": "ipython3",
   "version": "3.7.3"
  }
 },
 "nbformat": 4,
 "nbformat_minor": 2
}
